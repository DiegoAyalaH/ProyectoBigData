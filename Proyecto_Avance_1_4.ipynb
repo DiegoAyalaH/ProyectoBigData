{
  "nbformat": 4,
  "nbformat_minor": 0,
  "metadata": {
    "colab": {
      "provenance": []
    },
    "kernelspec": {
      "name": "python3",
      "display_name": "Python 3"
    },
    "language_info": {
      "name": "python"
    }
  },
  "cells": [
    {
      "cell_type": "markdown",
      "source": [
        "# Portada\n",
        "Avance de proyecto 1: Sistema de Recomendación\n",
        "\n",
        "- Leonardo Seguraa01176833\n",
        "- Esteban Hidekel Solares Orozcoa01657027\n",
        "- Diego Armando Ayala Hernández a01376727\n",
        "\n",
        "Análisis de grandes volúmenes de datos (Gpo 10)\n",
        "\n",
        "Github: https://github.com/DiegoAyalaH/ProyectoBigData"
      ],
      "metadata": {
        "id": "W6qIpDB7UUt8"
      }
    },
    {
      "cell_type": "markdown",
      "source": [
        "# Plan de proyecto"
      ],
      "metadata": {
        "id": "ZT-Uzwh3UR_a"
      }
    },
    {
      "cell_type": "markdown",
      "source": [
        "## Acuerdo con el profesor\n",
        "- No se han hecho visibles las entregas futuras, por lo que plantearemos el plan de proyecto de forma genérica, como se acordó con el profesor en la clase.\n",
        "- https://youtu.be/tB0fjBeT_mc?si=gq6jhXr-m6mDq6Oj&t=3740\n",
        "\n",
        "## Cronograma"
      ],
      "metadata": {
        "id": "VpDwaHKIUcnP"
      }
    },
    {
      "cell_type": "markdown",
      "source": [
        "**Etapa 1: Definiendo el problema y el caso de negocio**\n",
        "- Identificar claramente el problema a resolver y establecer los objetivos del proyecto. Desarrollar un caso de negocio que justifique la inversión y los beneficios esperados.\n",
        "- **Fecha pendiente**\n",
        "\n",
        "**Etapa 2: Identificación y adquisición de datos**\n",
        "- Determinar qué datos son necesarios para el análisis y cómo se obtendrán. Esto incluye la recolección de datos de diversas fuentes, asegurando su calidad y relevancia.\n",
        "- **Fecha pendiente**\n",
        "\n",
        "**Etapa 3: Extracción y filtración de datos**\n",
        "- Extraer los datos necesarios de las fuentes identificadas y aplicar filtros para eliminar información irrelevante o incorrecta.\n",
        "- **Fecha pendiente**\n",
        "\n",
        "**Etapa 4: Preprocesamiento y transformación de datos**\n",
        "- Limpiar y transformar los datos para que sean utilizables en el análisis. Esto puede incluir la normalización, la imputación de valores faltantes y la conversión de formatos.\n",
        "- **Fecha pendiente**\n",
        "\n",
        "**Etapa 5: Análisis exploratorio de datos**\n",
        "- Examinar los datos a través de técnicas estadísticas y visualizaciones iniciales para comprender su estructura, patrones y relaciones.\n",
        "- **Fecha pendiente**\n",
        "\n",
        "**Etapa 6: Visualización de datos**\n",
        "- Crear gráficos y visualizaciones que representen los datos de manera clara y comprensible, facilitando la identificación de tendencias y patrones.\n",
        "- **Fecha pendiente**\n",
        "\n",
        "**Etapa 7: Análisis y modelación de datos**\n",
        "- Aplicar técnicas analíticas y modelos matemáticos para obtener insights y predecir comportamientos futuros. Esto puede incluir análisis estadísticos, machine learning, y más.\n",
        "- **Fecha pendiente**\n",
        "\n",
        "**Etapa 8: Informes y comunicación**\n",
        "- Documentar los hallazgos y presentarlos de manera comprensible a las partes interesadas. Los informes deben incluir visualizaciones y explicaciones claras de los resultados.\n",
        "- **Fecha pendiente**\n",
        "\n",
        "**Etapa 9: Gobernanza de datos**\n",
        "- Implementar políticas y procedimientos para garantizar la calidad, integridad, seguridad y uso adecuado de los datos a lo largo del tiempo.\n",
        "- **Fecha pendiente**\n",
        "\n",
        "\n"
      ],
      "metadata": {
        "id": "59Mjb5csYqbv"
      }
    },
    {
      "cell_type": "markdown",
      "source": [
        "# Código"
      ],
      "metadata": {
        "id": "yDub4rAAT_AT"
      }
    },
    {
      "cell_type": "markdown",
      "source": [
        "## Librerías y configuración"
      ],
      "metadata": {
        "id": "duV2GWkeUFoa"
      }
    },
    {
      "cell_type": "code",
      "source": [
        "# Instalar surprise\n",
        "!pip install surprise"
      ],
      "metadata": {
        "colab": {
          "base_uri": "https://localhost:8080/"
        },
        "id": "Zsr8lxu3HQN6",
        "outputId": "3bc8360c-a4f2-475a-eb4f-5c95179d5316"
      },
      "execution_count": null,
      "outputs": [
        {
          "output_type": "stream",
          "name": "stdout",
          "text": [
            "Requirement already satisfied: surprise in /usr/local/lib/python3.10/dist-packages (0.1)\n",
            "Requirement already satisfied: scikit-surprise in /usr/local/lib/python3.10/dist-packages (from surprise) (1.1.3)\n",
            "Requirement already satisfied: joblib>=1.0.0 in /usr/local/lib/python3.10/dist-packages (from scikit-surprise->surprise) (1.4.2)\n",
            "Requirement already satisfied: numpy>=1.17.3 in /usr/local/lib/python3.10/dist-packages (from scikit-surprise->surprise) (1.25.2)\n",
            "Requirement already satisfied: scipy>=1.3.2 in /usr/local/lib/python3.10/dist-packages (from scikit-surprise->surprise) (1.11.4)\n"
          ]
        }
      ]
    },
    {
      "cell_type": "code",
      "source": [
        "# Importar las bibliotecas necesarias\n",
        "import numpy as np\n",
        "import pandas as pd\n",
        "import matplotlib.pyplot as plt\n",
        "import seaborn as sns\n",
        "\n",
        "from sklearn.preprocessing import LabelEncoder\n",
        "from surprise import Reader, Dataset, accuracy\n",
        "from surprise.model_selection import train_test_split\n",
        "from surprise.prediction_algorithms.knns import KNNBasic\n",
        "from collections import defaultdict\n",
        "import warnings\n",
        "warnings.filterwarnings('ignore')"
      ],
      "metadata": {
        "id": "S8MPsGdOHMJL"
      },
      "execution_count": null,
      "outputs": []
    },
    {
      "cell_type": "code",
      "source": [
        "# Montamos Drive\n",
        "from google.colab import drive\n",
        "drive.mount('/content/drive')"
      ],
      "metadata": {
        "colab": {
          "base_uri": "https://localhost:8080/"
        },
        "id": "SPliBERTHynM",
        "outputId": "e01e2160-e109-45b0-ab3a-94e9fea5c20a"
      },
      "execution_count": null,
      "outputs": [
        {
          "output_type": "stream",
          "name": "stdout",
          "text": [
            "Drive already mounted at /content/drive; to attempt to forcibly remount, call drive.mount(\"/content/drive\", force_remount=True).\n"
          ]
        }
      ]
    },
    {
      "cell_type": "code",
      "source": [
        "# Path de carpeta de proyecto\n",
        "drivepath = \"/content/drive/MyDrive/4034 Big Data/4034 Big Data Equipo 4/Recomendaciones libros/\""
      ],
      "metadata": {
        "id": "m2DgmcQWH1Yq"
      },
      "execution_count": null,
      "outputs": []
    },
    {
      "cell_type": "markdown",
      "source": [
        "## Pre-procesamiento y transformacione\n",
        "En esta libreta, hemos seleccionado un conjunto de datos de calificaciones de libros, ya que es ideal para construir y evaluar sistemas de recomendación. Este tipo de sistemas es fundamental en la industria del comercio electrónico y entretenimiento, donde personalizan la experiencia del usuario.\n",
        "\n",
        "Comenzamos importando las bibliotecas necesarias y leyendo los conjuntos de datos de libros, calificaciones y usuarios. Luego, fusionamos las calificaciones con la información de los libros y eliminamos las columnas de imágenes, ya que no son necesarias para nuestro análisis. Renombramos las columnas para mayor claridad y iltramos los usuarios que han dado al menos 50 calificaciones y los libros que han recibido al menos 10 calificaciones para asegurar suficiente variabilidad.\n"
      ],
      "metadata": {
        "id": "bktr6K0DLYWT"
      }
    },
    {
      "cell_type": "code",
      "source": [
        "# Leer los conjuntos de datos\n",
        "libros = pd.read_csv(drivepath+\"Books.csv\")\n",
        "calificaciones = pd.read_csv(drivepath+\"Ratings.csv\")\n",
        "usuarios = pd.read_csv(drivepath+\"Users.csv\")\n",
        "\n",
        "# Fusionar conjuntos de datos de calificaciones y libros\n",
        "df = pd.merge(calificaciones, libros.drop_duplicates(['ISBN']), on=\"ISBN\", how=\"left\")\n",
        "df.drop(['Image-URL-S','Image-URL-M','Image-URL-L'], axis=1, inplace=True)\n",
        "\n",
        "# Renombrar columnas\n",
        "df.rename(columns={'User-ID':'user_id', 'ISBN':'book_id', 'Book-Rating':'rating'}, inplace=True)\n",
        "df['book_id'] = df['book_id'].astype(str)\n",
        "\n",
        "# Filtrar usuarios con al menos 50 calificaciones y libros con al menos 10 calificaciones\n",
        "limite_calificaciones_usuario = 50\n",
        "limite_calificaciones_libro = 10\n",
        "\n",
        "conteo_calificaciones_usuario = df['user_id'].value_counts()\n",
        "conteo_calificaciones_libro = df['book_id'].value_counts()\n",
        "\n",
        "usuarios_a_eliminar = conteo_calificaciones_usuario[conteo_calificaciones_usuario < limite_calificaciones_usuario].index\n",
        "libros_a_eliminar = conteo_calificaciones_libro[conteo_calificaciones_libro < limite_calificaciones_libro].index\n",
        "\n",
        "df = df[~df['user_id'].isin(usuarios_a_eliminar)]\n",
        "df = df[~df['book_id'].isin(libros_a_eliminar)]\n"
      ],
      "metadata": {
        "id": "QpkpUCChHMEf"
      },
      "execution_count": null,
      "outputs": []
    },
    {
      "cell_type": "markdown",
      "source": [
        "## Análisis exploratorio\n",
        "En la sección de análisis exploratorio, primero mostramos las primeras filas del conjunto de datos para tener una visión general de su estructura y contenido. Luego, verificamos la distribución de las calificaciones utilizando un gráfico de barras. Esto nos ayuda a entender cómo se distribuyen las calificaciones en el conjunto de datos, identificando posibles sesgos o patrones que  podrían influir en el rendimiento del modelo de recomendación.\n",
        "\n",
        "Eliminamos las calificaciones con valor 0, ya que no representan una calificación válida sino la ausencia de una. Podemos ver que la calificación de 8 es la más común (a excepción de la falta de calificación)."
      ],
      "metadata": {
        "id": "_fLVo5X9LcGv"
      }
    },
    {
      "cell_type": "code",
      "source": [
        "# Mostrar las primeras filas del conjunto de datos\n",
        "df.head()"
      ],
      "metadata": {
        "colab": {
          "base_uri": "https://localhost:8080/",
          "height": 206
        },
        "id": "AB4H-poHHLzM",
        "outputId": "58a8fb05-3aeb-41b4-f3b9-caffa6011fd8"
      },
      "execution_count": null,
      "outputs": [
        {
          "output_type": "execute_result",
          "data": {
            "text/plain": [
              "     user_id     book_id  rating                               Book-Title  \\\n",
              "173   276847  0446364193       0  Along Came a Spider (Alex Cross Novels)   \n",
              "174   276847  3257200552       5                                      NaN   \n",
              "175   276847  3379015180       0                          Schlafes Bruder   \n",
              "177   276847  3404148576       8                               Nordermoor   \n",
              "179   276847  3423071516      10                        Der Kleine Hobbit   \n",
              "\n",
              "             Book-Author Year-Of-Publication        Publisher  \n",
              "173      James Patterson                1993     Warner Books  \n",
              "174                  NaN                 NaN              NaN  \n",
              "175     Robert Schneider                1994  Reclam, Leipzig  \n",
              "177  Arnaldur Indridason                2003         LÃ?Â¼bbe  \n",
              "179     J. R. R. Tolkien                2002      Distribooks  "
            ],
            "text/html": [
              "\n",
              "  <div id=\"df-b3d09773-c460-4693-87af-78b7020c5023\" class=\"colab-df-container\">\n",
              "    <div>\n",
              "<style scoped>\n",
              "    .dataframe tbody tr th:only-of-type {\n",
              "        vertical-align: middle;\n",
              "    }\n",
              "\n",
              "    .dataframe tbody tr th {\n",
              "        vertical-align: top;\n",
              "    }\n",
              "\n",
              "    .dataframe thead th {\n",
              "        text-align: right;\n",
              "    }\n",
              "</style>\n",
              "<table border=\"1\" class=\"dataframe\">\n",
              "  <thead>\n",
              "    <tr style=\"text-align: right;\">\n",
              "      <th></th>\n",
              "      <th>user_id</th>\n",
              "      <th>book_id</th>\n",
              "      <th>rating</th>\n",
              "      <th>Book-Title</th>\n",
              "      <th>Book-Author</th>\n",
              "      <th>Year-Of-Publication</th>\n",
              "      <th>Publisher</th>\n",
              "    </tr>\n",
              "  </thead>\n",
              "  <tbody>\n",
              "    <tr>\n",
              "      <th>173</th>\n",
              "      <td>276847</td>\n",
              "      <td>0446364193</td>\n",
              "      <td>0</td>\n",
              "      <td>Along Came a Spider (Alex Cross Novels)</td>\n",
              "      <td>James Patterson</td>\n",
              "      <td>1993</td>\n",
              "      <td>Warner Books</td>\n",
              "    </tr>\n",
              "    <tr>\n",
              "      <th>174</th>\n",
              "      <td>276847</td>\n",
              "      <td>3257200552</td>\n",
              "      <td>5</td>\n",
              "      <td>NaN</td>\n",
              "      <td>NaN</td>\n",
              "      <td>NaN</td>\n",
              "      <td>NaN</td>\n",
              "    </tr>\n",
              "    <tr>\n",
              "      <th>175</th>\n",
              "      <td>276847</td>\n",
              "      <td>3379015180</td>\n",
              "      <td>0</td>\n",
              "      <td>Schlafes Bruder</td>\n",
              "      <td>Robert Schneider</td>\n",
              "      <td>1994</td>\n",
              "      <td>Reclam, Leipzig</td>\n",
              "    </tr>\n",
              "    <tr>\n",
              "      <th>177</th>\n",
              "      <td>276847</td>\n",
              "      <td>3404148576</td>\n",
              "      <td>8</td>\n",
              "      <td>Nordermoor</td>\n",
              "      <td>Arnaldur Indridason</td>\n",
              "      <td>2003</td>\n",
              "      <td>LÃ?Â¼bbe</td>\n",
              "    </tr>\n",
              "    <tr>\n",
              "      <th>179</th>\n",
              "      <td>276847</td>\n",
              "      <td>3423071516</td>\n",
              "      <td>10</td>\n",
              "      <td>Der Kleine Hobbit</td>\n",
              "      <td>J. R. R. Tolkien</td>\n",
              "      <td>2002</td>\n",
              "      <td>Distribooks</td>\n",
              "    </tr>\n",
              "  </tbody>\n",
              "</table>\n",
              "</div>\n",
              "    <div class=\"colab-df-buttons\">\n",
              "\n",
              "  <div class=\"colab-df-container\">\n",
              "    <button class=\"colab-df-convert\" onclick=\"convertToInteractive('df-b3d09773-c460-4693-87af-78b7020c5023')\"\n",
              "            title=\"Convert this dataframe to an interactive table.\"\n",
              "            style=\"display:none;\">\n",
              "\n",
              "  <svg xmlns=\"http://www.w3.org/2000/svg\" height=\"24px\" viewBox=\"0 -960 960 960\">\n",
              "    <path d=\"M120-120v-720h720v720H120Zm60-500h600v-160H180v160Zm220 220h160v-160H400v160Zm0 220h160v-160H400v160ZM180-400h160v-160H180v160Zm440 0h160v-160H620v160ZM180-180h160v-160H180v160Zm440 0h160v-160H620v160Z\"/>\n",
              "  </svg>\n",
              "    </button>\n",
              "\n",
              "  <style>\n",
              "    .colab-df-container {\n",
              "      display:flex;\n",
              "      gap: 12px;\n",
              "    }\n",
              "\n",
              "    .colab-df-convert {\n",
              "      background-color: #E8F0FE;\n",
              "      border: none;\n",
              "      border-radius: 50%;\n",
              "      cursor: pointer;\n",
              "      display: none;\n",
              "      fill: #1967D2;\n",
              "      height: 32px;\n",
              "      padding: 0 0 0 0;\n",
              "      width: 32px;\n",
              "    }\n",
              "\n",
              "    .colab-df-convert:hover {\n",
              "      background-color: #E2EBFA;\n",
              "      box-shadow: 0px 1px 2px rgba(60, 64, 67, 0.3), 0px 1px 3px 1px rgba(60, 64, 67, 0.15);\n",
              "      fill: #174EA6;\n",
              "    }\n",
              "\n",
              "    .colab-df-buttons div {\n",
              "      margin-bottom: 4px;\n",
              "    }\n",
              "\n",
              "    [theme=dark] .colab-df-convert {\n",
              "      background-color: #3B4455;\n",
              "      fill: #D2E3FC;\n",
              "    }\n",
              "\n",
              "    [theme=dark] .colab-df-convert:hover {\n",
              "      background-color: #434B5C;\n",
              "      box-shadow: 0px 1px 3px 1px rgba(0, 0, 0, 0.15);\n",
              "      filter: drop-shadow(0px 1px 2px rgba(0, 0, 0, 0.3));\n",
              "      fill: #FFFFFF;\n",
              "    }\n",
              "  </style>\n",
              "\n",
              "    <script>\n",
              "      const buttonEl =\n",
              "        document.querySelector('#df-b3d09773-c460-4693-87af-78b7020c5023 button.colab-df-convert');\n",
              "      buttonEl.style.display =\n",
              "        google.colab.kernel.accessAllowed ? 'block' : 'none';\n",
              "\n",
              "      async function convertToInteractive(key) {\n",
              "        const element = document.querySelector('#df-b3d09773-c460-4693-87af-78b7020c5023');\n",
              "        const dataTable =\n",
              "          await google.colab.kernel.invokeFunction('convertToInteractive',\n",
              "                                                    [key], {});\n",
              "        if (!dataTable) return;\n",
              "\n",
              "        const docLinkHtml = 'Like what you see? Visit the ' +\n",
              "          '<a target=\"_blank\" href=https://colab.research.google.com/notebooks/data_table.ipynb>data table notebook</a>'\n",
              "          + ' to learn more about interactive tables.';\n",
              "        element.innerHTML = '';\n",
              "        dataTable['output_type'] = 'display_data';\n",
              "        await google.colab.output.renderOutput(dataTable, element);\n",
              "        const docLink = document.createElement('div');\n",
              "        docLink.innerHTML = docLinkHtml;\n",
              "        element.appendChild(docLink);\n",
              "      }\n",
              "    </script>\n",
              "  </div>\n",
              "\n",
              "\n",
              "<div id=\"df-9becd005-467c-4fdb-aac8-68068f6a5377\">\n",
              "  <button class=\"colab-df-quickchart\" onclick=\"quickchart('df-9becd005-467c-4fdb-aac8-68068f6a5377')\"\n",
              "            title=\"Suggest charts\"\n",
              "            style=\"display:none;\">\n",
              "\n",
              "<svg xmlns=\"http://www.w3.org/2000/svg\" height=\"24px\"viewBox=\"0 0 24 24\"\n",
              "     width=\"24px\">\n",
              "    <g>\n",
              "        <path d=\"M19 3H5c-1.1 0-2 .9-2 2v14c0 1.1.9 2 2 2h14c1.1 0 2-.9 2-2V5c0-1.1-.9-2-2-2zM9 17H7v-7h2v7zm4 0h-2V7h2v10zm4 0h-2v-4h2v4z\"/>\n",
              "    </g>\n",
              "</svg>\n",
              "  </button>\n",
              "\n",
              "<style>\n",
              "  .colab-df-quickchart {\n",
              "      --bg-color: #E8F0FE;\n",
              "      --fill-color: #1967D2;\n",
              "      --hover-bg-color: #E2EBFA;\n",
              "      --hover-fill-color: #174EA6;\n",
              "      --disabled-fill-color: #AAA;\n",
              "      --disabled-bg-color: #DDD;\n",
              "  }\n",
              "\n",
              "  [theme=dark] .colab-df-quickchart {\n",
              "      --bg-color: #3B4455;\n",
              "      --fill-color: #D2E3FC;\n",
              "      --hover-bg-color: #434B5C;\n",
              "      --hover-fill-color: #FFFFFF;\n",
              "      --disabled-bg-color: #3B4455;\n",
              "      --disabled-fill-color: #666;\n",
              "  }\n",
              "\n",
              "  .colab-df-quickchart {\n",
              "    background-color: var(--bg-color);\n",
              "    border: none;\n",
              "    border-radius: 50%;\n",
              "    cursor: pointer;\n",
              "    display: none;\n",
              "    fill: var(--fill-color);\n",
              "    height: 32px;\n",
              "    padding: 0;\n",
              "    width: 32px;\n",
              "  }\n",
              "\n",
              "  .colab-df-quickchart:hover {\n",
              "    background-color: var(--hover-bg-color);\n",
              "    box-shadow: 0 1px 2px rgba(60, 64, 67, 0.3), 0 1px 3px 1px rgba(60, 64, 67, 0.15);\n",
              "    fill: var(--button-hover-fill-color);\n",
              "  }\n",
              "\n",
              "  .colab-df-quickchart-complete:disabled,\n",
              "  .colab-df-quickchart-complete:disabled:hover {\n",
              "    background-color: var(--disabled-bg-color);\n",
              "    fill: var(--disabled-fill-color);\n",
              "    box-shadow: none;\n",
              "  }\n",
              "\n",
              "  .colab-df-spinner {\n",
              "    border: 2px solid var(--fill-color);\n",
              "    border-color: transparent;\n",
              "    border-bottom-color: var(--fill-color);\n",
              "    animation:\n",
              "      spin 1s steps(1) infinite;\n",
              "  }\n",
              "\n",
              "  @keyframes spin {\n",
              "    0% {\n",
              "      border-color: transparent;\n",
              "      border-bottom-color: var(--fill-color);\n",
              "      border-left-color: var(--fill-color);\n",
              "    }\n",
              "    20% {\n",
              "      border-color: transparent;\n",
              "      border-left-color: var(--fill-color);\n",
              "      border-top-color: var(--fill-color);\n",
              "    }\n",
              "    30% {\n",
              "      border-color: transparent;\n",
              "      border-left-color: var(--fill-color);\n",
              "      border-top-color: var(--fill-color);\n",
              "      border-right-color: var(--fill-color);\n",
              "    }\n",
              "    40% {\n",
              "      border-color: transparent;\n",
              "      border-right-color: var(--fill-color);\n",
              "      border-top-color: var(--fill-color);\n",
              "    }\n",
              "    60% {\n",
              "      border-color: transparent;\n",
              "      border-right-color: var(--fill-color);\n",
              "    }\n",
              "    80% {\n",
              "      border-color: transparent;\n",
              "      border-right-color: var(--fill-color);\n",
              "      border-bottom-color: var(--fill-color);\n",
              "    }\n",
              "    90% {\n",
              "      border-color: transparent;\n",
              "      border-bottom-color: var(--fill-color);\n",
              "    }\n",
              "  }\n",
              "</style>\n",
              "\n",
              "  <script>\n",
              "    async function quickchart(key) {\n",
              "      const quickchartButtonEl =\n",
              "        document.querySelector('#' + key + ' button');\n",
              "      quickchartButtonEl.disabled = true;  // To prevent multiple clicks.\n",
              "      quickchartButtonEl.classList.add('colab-df-spinner');\n",
              "      try {\n",
              "        const charts = await google.colab.kernel.invokeFunction(\n",
              "            'suggestCharts', [key], {});\n",
              "      } catch (error) {\n",
              "        console.error('Error during call to suggestCharts:', error);\n",
              "      }\n",
              "      quickchartButtonEl.classList.remove('colab-df-spinner');\n",
              "      quickchartButtonEl.classList.add('colab-df-quickchart-complete');\n",
              "    }\n",
              "    (() => {\n",
              "      let quickchartButtonEl =\n",
              "        document.querySelector('#df-9becd005-467c-4fdb-aac8-68068f6a5377 button');\n",
              "      quickchartButtonEl.style.display =\n",
              "        google.colab.kernel.accessAllowed ? 'block' : 'none';\n",
              "    })();\n",
              "  </script>\n",
              "</div>\n",
              "    </div>\n",
              "  </div>\n"
            ],
            "application/vnd.google.colaboratory.intrinsic+json": {
              "type": "dataframe",
              "variable_name": "df"
            }
          },
          "metadata": {},
          "execution_count": 7
        }
      ]
    },
    {
      "cell_type": "code",
      "source": [
        "# Verificar la distribución de calificaciones\n",
        "plt.figure(figsize=(12, 4))\n",
        "sns.countplot(x=\"rating\", data=df)\n",
        "plt.xlabel(\"Calificaciones\")\n",
        "plt.ylabel(\"Número de Calificaciones\")\n",
        "plt.show()"
      ],
      "metadata": {
        "colab": {
          "base_uri": "https://localhost:8080/",
          "height": 388
        },
        "id": "efxfFlIGHb2C",
        "outputId": "6ca520a8-f28a-403a-c5f1-b257126e623c"
      },
      "execution_count": null,
      "outputs": [
        {
          "output_type": "display_data",
          "data": {
            "text/plain": [
              "<Figure size 1200x400 with 1 Axes>"
            ],
            "image/png": "[encoded data removed]"
          },
          "metadata": {}
        }
      ]
    },
    {
      "cell_type": "code",
      "source": [
        "# Eliminar calificaciones de 0\n",
        "df = df[df['rating'] != 0]\n",
        "\n",
        "# Verificar la distribución de calificaciones\n",
        "plt.figure(figsize=(12, 4))\n",
        "sns.countplot(x=\"rating\", data=df)\n",
        "plt.xlabel(\"Calificaciones\")\n",
        "plt.ylabel(\"Número de Calificaciones\")\n",
        "plt.show()"
      ],
      "metadata": {
        "colab": {
          "base_uri": "https://localhost:8080/",
          "height": 388
        },
        "id": "8iJ-whP1KIVL",
        "outputId": "882808c6-0c4c-4ac3-bdaf-2afd304f3049"
      },
      "execution_count": null,
      "outputs": [
        {
          "output_type": "display_data",
          "data": {
            "text/plain": [
              "<Figure size 1200x400 with 1 Axes>"
            ],
            "image/png": "[encoded data removed]"
          },
          "metadata": {}
        }
      ]
    },
    {
      "cell_type": "markdown",
      "source": [
        "## Codificado\n",
        "Para preparar los datos para el modelo, codificamos las columnas user_id y book_id utilizando LabelEncoder, lo cual transforma  los identificadores en un formato numérico necesario para el modelo. Luego, utilizamos la clase Reader de la biblioteca surprise  para definir la escala de calificación esperada y cargar el conjunto de datos en el formato requerido por surprise. Dividimos  los datos en conjuntos de entrenamiento y prueba para evaluar el modelo de manera adecuada.\n"
      ],
      "metadata": {
        "id": "yRot_WEcNtO_"
      }
    },
    {
      "cell_type": "code",
      "source": [
        "# Codificar user_id y book_id\n",
        "encoder = LabelEncoder()\n",
        "datos = df[['user_id', 'book_id']].apply(encoder.fit_transform)\n",
        "datos['rating'] = df['rating']\n",
        "\n",
        "# Preparar el conjunto de datos para la biblioteca surprise\n",
        "lector = Reader(rating_scale=(1, 10))\n",
        "dataset_surprise = Dataset.load_from_df(datos[['user_id', 'book_id', 'rating']], lector)\n",
        "\n",
        "# Dividir los datos en conjuntos de entrenamiento y prueba\n",
        "trainset, testset = train_test_split(dataset_surprise, test_size=0.3, random_state=42)"
      ],
      "metadata": {
        "id": "gKEx7XvyHfbf"
      },
      "execution_count": null,
      "outputs": []
    },
    {
      "cell_type": "markdown",
      "source": [
        "## Algoritmo básico (KNN basado en similitud de coseno)\n",
        "En esta sección, implementamos el modelo de recomendación básico utilizando KNN basado en la similitud del coseno. Definimos las opciones de similitud sin el parámetro min_support para evitar problemas con vecinos insuficientes. Entrenamos el algoritmo en  el conjunto de entrenamiento y luego evaluamos su rendimiento en el conjunto de prueba. Utilizamos métricas de precisión, recall  y F1-score para evaluar la calidad de las recomendaciones.\n"
      ],
      "metadata": {
        "id": "tzxelVGULsBF"
      }
    },
    {
      "cell_type": "code",
      "source": [
        "# Definir las opciones de similitud con min_support\n",
        "sim_options = {'name': 'cosine', 'user_based': True}\n",
        "\n",
        "# Crear el algoritmo KNN básico\n",
        "algo_knn_user = KNNBasic(sim_options=sim_options, verbose=False)\n",
        "\n",
        "# Entrenar el algoritmo en el conjunto de entrenamiento\n",
        "algo_knn_user.fit(trainset)"
      ],
      "metadata": {
        "colab": {
          "base_uri": "https://localhost:8080/"
        },
        "id": "s8Htps8pHhJy",
        "outputId": "c5e6ffa5-8bb9-4d98-fd25-abba35ec4cb4"
      },
      "execution_count": null,
      "outputs": [
        {
          "output_type": "execute_result",
          "data": {
            "text/plain": [
              "<surprise.prediction_algorithms.knns.KNNBasic at 0x7a9a9e405630>"
            ]
          },
          "metadata": {},
          "execution_count": 15
        }
      ]
    },
    {
      "cell_type": "markdown",
      "source": [
        "## Evaluación\n",
        "Para evaluar el modelo, definimos una función precision_recall_at_k que calcula la precisión, el recall y la puntuación F1. Esta función agrupa las predicciones por usuario, ordena las calificaciones estimadas y calcula las métricas en función de un umbral definido. Imprimimos las métricas calculadas y utilizamos la función rmse de surprise para calcular el error cuadrático medio de las predicciones. Esto nos proporciona una visión completa del rendimiento del modelo.\n",
        "\n",
        "Los resultados muestran un RMSE de 1.9551, lo que indica la desviación promedio de las calificaciones predichas respecto a las calificaciones reales. La precisión es de 0.794, lo que significa que el 79.4% de las recomendaciones fueron relevantes. El recall es de 0.787, lo que indica que el 78.7% de los ítems relevantes fueron recomendados. La puntuación F1, que es una medida combinada de precisión y recall, es de 0.79."
      ],
      "metadata": {
        "id": "dL-ctLPJOXGM"
      }
    },
    {
      "cell_type": "code",
      "source": [
        "# Función para calcular precisión, recall y F1-score\n",
        "def precision_recall_at_k(model, k=10, threshold=7):\n",
        "    # Diccionario para almacenar las predicciones de cada usuario\n",
        "    user_est_true = defaultdict(list)\n",
        "    # Obtener predicciones para el conjunto de prueba\n",
        "    predictions = model.test(testset)\n",
        "    # Agrupar las predicciones por usuario\n",
        "    for uid, _, true_r, est, _ in predictions:\n",
        "        user_est_true[uid].append((est, true_r))\n",
        "    precisions = dict()\n",
        "    recalls = dict()\n",
        "    # Calcular precisión y recall para cada usuario\n",
        "    for uid, user_ratings in user_est_true.items():\n",
        "        # Ordenar las calificaciones del usuario por el valor estimado\n",
        "        user_ratings.sort(key=lambda x: x[0], reverse=True)\n",
        "        # Número de ítems relevantes\n",
        "        n_rel = sum((true_r >= threshold) for (_, true_r) in user_ratings)\n",
        "        # Número de ítems recomendados en el top k\n",
        "        n_rec_k = sum((est >= threshold) for (est, _) in user_ratings[:k])\n",
        "        # Número de ítems relevantes y recomendados en el top k\n",
        "        n_rel_and_rec_k = sum(((true_r >= threshold) and (est >= threshold)) for (est, true_r) in user_ratings[:k])\n",
        "        # Precisión@K: Proporción de ítems recomendados que son relevantes\n",
        "        precisions[uid] = n_rel_and_rec_k / n_rec_k if n_rec_k != 0 else 0\n",
        "        # Recall@K: Proporción de ítems relevantes que son recomendados\n",
        "        recalls[uid] = n_rel_and_rec_k / n_rel if n_rel != 0 else 0\n",
        "    # Calcular la media de todas las precisiones predichas\n",
        "    precision = round((sum(prec for prec in precisions.values()) / len(precisions)), 3)\n",
        "    # Calcular la media de todos los recalls predichos\n",
        "    recall = round((sum(rec for rec in recalls.values()) / len(recalls)), 3)\n",
        "    # Calcular RMSE\n",
        "    accuracy.rmse(predictions)\n",
        "    # Imprimir precisión, recall y F1-score\n",
        "    print('Precisión: ', precision)\n",
        "    print('Recall: ', recall)\n",
        "    print('Puntuación F_1: ', round((2*precision*recall)/(precision+recall), 3))\n",
        "\n",
        "# Calcular precisión, recall y F1-score\n",
        "precision_recall_at_k(algo_knn_user)\n"
      ],
      "metadata": {
        "colab": {
          "base_uri": "https://localhost:8080/"
        },
        "id": "afPi-889Hiku",
        "outputId": "5154d2b4-3ab3-459d-df10-b6980e0a11e5"
      },
      "execution_count": null,
      "outputs": [
        {
          "output_type": "stream",
          "name": "stdout",
          "text": [
            "RMSE: 1.9551\n",
            "Precisión:  0.794\n",
            "Recall:  0.787\n",
            "Puntuación F_1:  0.79\n"
          ]
        }
      ]
    },
    {
      "cell_type": "markdown",
      "source": [
        "## Predicción"
      ],
      "metadata": {
        "id": "HLqZP_-QOzQB"
      }
    },
    {
      "cell_type": "code",
      "source": [
        "# Predecir la calificación para un usuario y un libro específico\n",
        "algo_knn_user.predict(69, 420, r_ui=None, verbose=True)"
      ],
      "metadata": {
        "colab": {
          "base_uri": "https://localhost:8080/"
        },
        "id": "JuSnhJmYHno7",
        "outputId": "f9a43150-d736-49dd-9cf7-4d9c6299b00b"
      },
      "execution_count": null,
      "outputs": [
        {
          "output_type": "stream",
          "name": "stdout",
          "text": [
            "user: 69         item: 420        r_ui = None   est = 10.00   {'actual_k': 1, 'was_impossible': False}\n"
          ]
        },
        {
          "output_type": "execute_result",
          "data": {
            "text/plain": [
              "Prediction(uid=69, iid=420, r_ui=None, est=10, details={'actual_k': 1, 'was_impossible': False})"
            ]
          },
          "metadata": {},
          "execution_count": 29
        }
      ]
    },
    {
      "cell_type": "markdown",
      "source": [
        "Finalmente, realizamos una predicción específica para un usuario y un libro, utilizando el modelo entrenado. Esto nos permite ver una predicción real y evaluar cómo el modelo maneja casos específicos. Esta predicción se compara con una calificación real (si está disponible) o se estima una nueva calificación. Esta sección demuestra la aplicabilidad práctica del modelo de recomendación.\n",
        "\n",
        "En este caso, la predicción para el usuario con ID 69 y el libro con ID 420 es una calificación estimada de 10.00. Esto indica que el modelo predice que este usuario otorgará una calificación alta a este libro.\n"
      ],
      "metadata": {
        "id": "uEPDRqqLOq8B"
      }
    },
    {
      "cell_type": "code",
      "source": [
        "# Definir los parámetros\n",
        "x = 10  # Número de calificaciones a mostrar\n",
        "n = 42   # Iniciar desde la n-ésima combinación válida\n",
        "\n",
        "# Lista para almacenar las combinaciones de calificaciones reales y predichas\n",
        "predictions_list = []\n",
        "\n",
        "# Contador para rastrear combinaciones válidas\n",
        "valid_count = 0\n",
        "\n",
        "# Recorrer el conjunto de prueba para encontrar combinaciones válidas\n",
        "for (u, i, r) in testset:\n",
        "    if r is not None:\n",
        "        valid_count += 1\n",
        "        # Comenzar a recopilar combinaciones después de la n-ésima combinación válida\n",
        "        if valid_count >= n:\n",
        "            prediction = algo_knn_user.predict(u, i, r_ui=r, verbose=False)\n",
        "            predictions_list.append((u, i, r, prediction.est))\n",
        "            # Detener la recopilación después de encontrar x combinaciones\n",
        "            if len(predictions_list) == x:\n",
        "                break\n",
        "\n",
        "# Crear un DataFrame para mostrar los resultados\n",
        "predictions_df = pd.DataFrame(predictions_list, columns=['user_id', 'book_id', 'calificación_real', 'calificación_predicha'])\n",
        "print(predictions_df)"
      ],
      "metadata": {
        "colab": {
          "base_uri": "https://localhost:8080/"
        },
        "id": "NRXAkQAOO88T",
        "outputId": "49886291-f66e-4b3b-c892-1d9c99f5a911"
      },
      "execution_count": null,
      "outputs": [
        {
          "output_type": "stream",
          "name": "stdout",
          "text": [
            "   user_id  book_id  calificación_real  calificación_predicha\n",
            "0     1346    15312                6.0               7.000000\n",
            "1     2747    11019                8.0               7.846718\n",
            "2     2029     2743               10.0               7.846718\n",
            "3      485      341                9.0               6.498963\n",
            "4     2065    12817                9.0               7.000000\n",
            "5     2500     6418                8.0               7.000000\n",
            "6     1782    16098                8.0               7.527065\n",
            "7     2713     4106                9.0               7.000000\n",
            "8     2569     8684                8.0               8.250235\n",
            "9     1335     5401                5.0               7.554043\n"
          ]
        }
      ]
    },
    {
      "cell_type": "markdown",
      "source": [
        "Finalmente, realizamos predicciones específicas para varios usuarios y libros, utilizando el modelo entrenado. Esto nos permite ver múltiples predicciones reales y evaluar cómo el modelo maneja diferentes casos específicos. Recopilamos una lista de `x` combinaciones válidas de calificaciones reales y predichas, comenzando desde la `n`-ésima combinación válida. Esto nos proporciona una visión más amplia del rendimiento del modelo en diferentes escenarios.\n",
        "\n",
        "En el caso de la predicción específica para el usuario con ID 69 y el libro con ID 420, el modelo predice una calificación de 10.00, lo que indica que el modelo espera que este usuario otorgue una calificación alta a este libro. A continuación, mostramos una tabla de múltiples predicciones para diferentes combinaciones de usuarios y libros:"
      ],
      "metadata": {
        "id": "GBLnme4MPFYA"
      }
    }
  ]
}